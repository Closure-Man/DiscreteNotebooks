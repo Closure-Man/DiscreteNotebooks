{
 "cells": [
  {
   "cell_type": "code",
   "execution_count": 2,
   "metadata": {
    "collapsed": true
   },
   "outputs": [],
   "source": [
    "import ipywidgets as wdg"
   ]
  },
  {
   "cell_type": "code",
   "execution_count": null,
   "metadata": {
    "collapsed": true
   },
   "outputs": [],
   "source": []
  },
  {
   "cell_type": "code",
   "execution_count": null,
   "metadata": {
    "collapsed": true
   },
   "outputs": [],
   "source": [
    "def quotient_gt_one_good(dividend, divisor):\n",
    "    return (divisor != 0) and (dividend / divisor > 1.0)"
   ]
  },
  {
   "cell_type": "code",
   "execution_count": 11,
   "metadata": {},
   "outputs": [
    {
     "data": {
      "application/vnd.jupyter.widget-view+json": {
       "model_id": "d8a3fca51d754049a338647cf01968f6"
      }
     },
     "metadata": {},
     "output_type": "display_data"
    },
    {
     "data": {
      "text/plain": [
       "<function __main__.pascals_tri>"
      ]
     },
     "execution_count": 11,
     "metadata": {},
     "output_type": "execute_result"
    }
   ],
   "source": [
    "#Pascals Triangle\n",
    "#Possible Implementation without for loop\n",
    "def pascals_tri(row):\n",
    "    if(row == 1):\n",
    "        return [[1]]\n",
    "    triangle = pascals_tri(row - 1)\n",
    "    next_row = [1]\n",
    "    for x in range(0, len(triangle[-1]) - 1):\n",
    "        next_row.append(triangle[-1][x] + triangle[-1][x+1])\n",
    "    next_row.append(1)\n",
    "    triangle.append(next_row)\n",
    "    return triangle\n",
    "wdg.interact(pascals_tri, row = 5)"
   ]
  }
 ],
 "metadata": {
  "kernelspec": {
   "display_name": "Python 3",
   "language": "python",
   "name": "python3"
  },
  "language_info": {
   "codemirror_mode": {
    "name": "ipython",
    "version": 3
   },
   "file_extension": ".py",
   "mimetype": "text/x-python",
   "name": "python",
   "nbconvert_exporter": "python",
   "pygments_lexer": "ipython3",
   "version": "3.6.1"
  }
 },
 "nbformat": 4,
 "nbformat_minor": 2
}
