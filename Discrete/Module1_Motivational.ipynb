{
 "cells": [
  {
   "cell_type": "code",
   "execution_count": 6,
   "metadata": {
    "collapsed": true
   },
   "outputs": [],
   "source": [
    "import ipywidgets as wdg"
   ]
  },
  {
   "cell_type": "code",
   "execution_count": null,
   "metadata": {
    "collapsed": true
   },
   "outputs": [],
   "source": [
    "TEXT ABOUT BREAKING FERMAT"
   ]
  },
  {
   "cell_type": "code",
   "execution_count": 1,
   "metadata": {},
   "outputs": [
    {
     "data": {
      "text/plain": [
       "[(6, 8, 9, 3, 1),\n",
       " (8, 6, 9, 3, 1),\n",
       " (9, 10, 12, 3, 1),\n",
       " (10, 9, 12, 3, 1),\n",
       " (64, 94, 103, 3, 1),\n",
       " (94, 64, 103, 3, 1)]"
      ]
     },
     "execution_count": 1,
     "metadata": {},
     "output_type": "execute_result"
    }
   ],
   "source": [
    "[(a, b, c, n, k) for a in range(2, 100) for b in range(2, 100)\n",
    "                 for n in range(3, 5) for c in range(6, 130) for k in range(1, 2)\n",
    "                 if((a**n + b**n + k == c**n) or (a**n + b**n == c**n +k))]"
   ]
  },
  {
   "cell_type": "code",
   "execution_count": 3,
   "metadata": {},
   "outputs": [
    {
     "data": {
      "text/plain": [
       "[(6, 8, 9, 3), (8, 6, 9, 3), (9, 10, 12, 3), (10, 9, 12, 3)]"
      ]
     },
     "execution_count": 3,
     "metadata": {},
     "output_type": "execute_result"
    }
   ],
   "source": [
    "[(a, b, c, n) for a in range(2, 50) for b in range(2, 50) for n in range(3, 5) \n",
    "              for c in range(6, 130) if(abs(a**n+b**n - c**n) == 1)]"
   ]
  },
  {
   "cell_type": "code",
   "execution_count": 4,
   "metadata": {
    "collapsed": true
   },
   "outputs": [],
   "source": [
    "def breakFermat(a, b, c, n):\n",
    "    return abs(a**n+b**n - c**n)"
   ]
  },
  {
   "cell_type": "code",
   "execution_count": 7,
   "metadata": {},
   "outputs": [
    {
     "data": {
      "application/vnd.jupyter.widget-view+json": {
       "model_id": "e17c889eb3e844c382a3a195698cdd2c"
      }
     },
     "metadata": {},
     "output_type": "display_data"
    },
    {
     "data": {
      "text/plain": [
       "<function __main__.breakFermat>"
      ]
     },
     "execution_count": 7,
     "metadata": {},
     "output_type": "execute_result"
    }
   ],
   "source": [
    "wdg.interact(breakFermat, a = 10, b = 10, c = 10, n = 10)"
   ]
  },
  {
   "cell_type": "code",
   "execution_count": null,
   "metadata": {
    "collapsed": true
   },
   "outputs": [],
   "source": []
  }
 ],
 "metadata": {
  "kernelspec": {
   "display_name": "Python 3",
   "language": "python",
   "name": "python3"
  },
  "language_info": {
   "codemirror_mode": {
    "name": "ipython",
    "version": 3
   },
   "file_extension": ".py",
   "mimetype": "text/x-python",
   "name": "python",
   "nbconvert_exporter": "python",
   "pygments_lexer": "ipython3",
   "version": "3.6.1"
  }
 },
 "nbformat": 4,
 "nbformat_minor": 2
}
