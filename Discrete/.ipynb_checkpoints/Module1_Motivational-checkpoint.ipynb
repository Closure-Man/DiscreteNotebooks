{
 "cells": [
  {
   "cell_type": "code",
   "execution_count": 1,
   "metadata": {},
   "outputs": [
    {
     "data": {
      "text/plain": [
       "[(6, 8, 9, 3, 1),\n",
       " (8, 6, 9, 3, 1),\n",
       " (9, 10, 12, 3, 1),\n",
       " (10, 9, 12, 3, 1),\n",
       " (64, 94, 103, 3, 1),\n",
       " (94, 64, 103, 3, 1)]"
      ]
     },
     "execution_count": 1,
     "metadata": {},
     "output_type": "execute_result"
    }
   ],
   "source": [
    "[(a, b, c, n, k) for a in range(2, 100) for b in range(2, 100)\n",
    "                 for n in range(3, 5) for c in range(6, 130) for k in range(1, 2)\n",
    "                 if((a**n + b**n + k == c**n) or (a**n + b**n == c**n +k))]"
   ]
  },
  {
   "cell_type": "code",
   "execution_count": 2,
   "metadata": {},
   "outputs": [
    {
     "ename": "SyntaxError",
     "evalue": "invalid syntax (<ipython-input-2-511e6fa4ab97>, line 1)",
     "output_type": "error",
     "traceback": [
      "\u001b[1;36m  File \u001b[1;32m\"<ipython-input-2-511e6fa4ab97>\"\u001b[1;36m, line \u001b[1;32m1\u001b[0m\n\u001b[1;33m    [(a, b, c, n) for a in range(2, 50) for b in range(2, 50) for in range(3, 5)\u001b[0m\n\u001b[1;37m                                                                   ^\u001b[0m\n\u001b[1;31mSyntaxError\u001b[0m\u001b[1;31m:\u001b[0m invalid syntax\n"
     ]
    }
   ],
   "source": [
    "[(a, b, c, n) for a in range(2, 50) for b in range(2, 50) for n in range(3, 5) \n",
    "              for c in range(6, 130) if(abs(a**n+b**n - c**n) == 1)]"
   ]
  }
 ],
 "metadata": {
  "kernelspec": {
   "display_name": "Python 3",
   "language": "python",
   "name": "python3"
  },
  "language_info": {
   "codemirror_mode": {
    "name": "ipython",
    "version": 3
   },
   "file_extension": ".py",
   "mimetype": "text/x-python",
   "name": "python",
   "nbconvert_exporter": "python",
   "pygments_lexer": "ipython3",
   "version": "3.6.1"
  }
 },
 "nbformat": 4,
 "nbformat_minor": 2
}
