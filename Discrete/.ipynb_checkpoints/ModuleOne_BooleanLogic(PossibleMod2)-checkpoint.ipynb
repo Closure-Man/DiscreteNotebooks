{
 "cells": [
  {
   "cell_type": "code",
   "execution_count": null,
   "metadata": {
    "collapsed": true
   },
   "outputs": [],
   "source": [
    "import ipywidgets as wdg"
   ]
  },
  {
   "cell_type": "code",
   "execution_count": null,
   "metadata": {
    "scrolled": false
   },
   "outputs": [],
   "source": [
    "#Chapter 5, Excercise 3\n",
    "import random\n",
    "\n",
    "def draw_balls(arg_white, arg_black, arg_rep): \n",
    "    can_play = True\n",
    "    num_white = arg_white \n",
    "    num_black = arg_black \n",
    "    num_rep = 0\n",
    "    max_rep = arg_rep\n",
    "    \n",
    "    while (can_play):\n",
    "        #Draw two balls out of the bag\n",
    "        #Let false be black and true be white??\n",
    "    \n",
    "        balls = [\"White\", \"Black\"]\n",
    "        balls[0] =  (\"White\" if (random.randrange(0, num_white + num_black + 1, 1) / (num_white + num_black)) \n",
    "                     >= (num_black/(num_white + num_black)) else \"Black\")\n",
    "        if(balls[0] == \"White\"):\n",
    "            num_white -= 1\n",
    "        else: \n",
    "            num_black -= 1\n",
    "        balls[1] =  (\"White\" if (random.randrange(0, num_white + num_black + 1, 1) / (num_white + num_black)) \n",
    "                     >= (num_black/(num_white + num_black)) else \"Black\") \n",
    "    \n",
    "        print(balls)\n",
    "        if(balls[0] == \"White\"):\n",
    "            num_white += 1\n",
    "        else:\n",
    "            num_black += 1\n",
    "    \n",
    "        if(balls[0] == balls[1]):\n",
    "            if(balls[0] == \"White\"):\n",
    "                num_white -= 2\n",
    "                num_black += 1\n",
    "            else:\n",
    "                num_black -= 1\n",
    "        else:\n",
    "            num_black -= 1\n",
    "    \n",
    "        num_rep += 1\n",
    "    \n",
    "        print (\"White Remaining: \" + str(num_white))\n",
    "        print (\"Black Remaining: \" + str(num_black))\n",
    "    \n",
    "        if ((num_white <= 0 and num_black <= 0) or \n",
    "            (num_white < 0 or num_black < 0) or \n",
    "            ((num_white + num_black) < 2) or \n",
    "            num_rep > max_rep):\n",
    "            can_play = False\n",
    "            \n",
    "wdg.interact_manual(draw_balls, arg_white = 100, arg_black = 100, arg_rep = 100)"
   ]
  },
  {
   "cell_type": "code",
   "execution_count": null,
   "metadata": {},
   "outputs": [],
   "source": [
    "#Chapter 5, Excercise 4\n",
    "#Generalized to 3 inputs\n",
    "\n",
    "def multi_xor(in_one, in_two, in_three):\n",
    "    #Xor can be viewed as addition mod 2\n",
    "    print((in_one + in_two + in_three) % 2)\n",
    "    \n",
    "wdg.interact(multi_xor, in_one = False, in_two = False, in_three = False)"
   ]
  },
  {
   "cell_type": "code",
   "execution_count": null,
   "metadata": {},
   "outputs": [],
   "source": [
    "#Chapter 7, Excercise 1\n",
    "\n",
    "def good_mileage(p, s, d, g):\n",
    "    if(p > 35 and p <= 38 and (s < 60 or d) and g < 5):\n",
    "        print(\"Good Mileage!\")\n",
    "    else:\n",
    "        print(\"Poor Mileage.\")\n",
    "wdg.interact(good_mileage, p = 36, s = 50, d=False, g=2)"
   ]
  },
  {
   "cell_type": "code",
   "execution_count": null,
   "metadata": {},
   "outputs": [],
   "source": [
    "#Chapter 7, Excercise 1 Final Part\n",
    "\n",
    "def poor_mileage(p, s, d, g):\n",
    "    if((p < 35 or p > 38) or (s > 60 and not d) or g > 5):\n",
    "        print(\"Poor Mileage.\")\n",
    "    else:\n",
    "        print(\"Good Mileage!\")\n",
    "wdg.interact(poor_mileage, p = 36, s = 50, d= False, g = 2)"
   ]
  },
  {
   "cell_type": "code",
   "execution_count": null,
   "metadata": {
    "collapsed": true
   },
   "outputs": [],
   "source": [
    "def mux21(s, a, b):\n",
    "    return b if s else a\n"
   ]
  },
  {
   "cell_type": "code",
   "execution_count": null,
   "metadata": {
    "collapsed": true
   },
   "outputs": [],
   "source": [
    "def mux21TT(s, a, b):\n",
    "    return { (0, 0, 0) : 0,\n",
    "             (0, 0, 1) : 0,\n",
    "             (0, 1, 0) : 1,\n",
    "             (0, 1, 1) : 1,\n",
    "             (1, 0, 0) : 0,\n",
    "             (1, 0, 1) : 1,\n",
    "             (1, 1, 0) : 0,\n",
    "             (1, 1, 1) : 1 } [(s, a, b)]"
   ]
  },
  {
   "cell_type": "code",
   "execution_count": null,
   "metadata": {
    "collapsed": true
   },
   "outputs": [],
   "source": [
    "def nor_mux21(x, y):\n",
    "    return mux21(y, mux21(x, 1, 0), mux21(x, 0, 0))\n",
    "wdg.interact(xor_mux21, x=False, y=False)"
   ]
  },
  {
   "cell_type": "code",
   "execution_count": null,
   "metadata": {
    "collapsed": true
   },
   "outputs": [],
   "source": [
    "def xor\n",
    "\n"
   ]
  }
 ],
 "metadata": {
  "kernelspec": {
   "display_name": "Python 3",
   "language": "python",
   "name": "python3"
  },
  "language_info": {
   "codemirror_mode": {
    "name": "ipython",
    "version": 3
   },
   "file_extension": ".py",
   "mimetype": "text/x-python",
   "name": "python",
   "nbconvert_exporter": "python",
   "pygments_lexer": "ipython3",
   "version": "3.6.1"
  }
 },
 "nbformat": 4,
 "nbformat_minor": 2
}
