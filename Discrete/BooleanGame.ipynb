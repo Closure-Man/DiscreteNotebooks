{
 "cells": [
  {
   "cell_type": "code",
   "execution_count": null,
   "metadata": {
    "collapsed": true
   },
   "outputs": [],
   "source": [
    "import ipywidgets as wdg"
   ]
  },
  {
   "cell_type": "code",
   "execution_count": null,
   "metadata": {
    "collapsed": true
   },
   "outputs": [],
   "source": [
    "def xor(a, b):\n",
    "    return (a + b) % 2"
   ]
  },
  {
   "cell_type": "code",
   "execution_count": null,
   "metadata": {
    "collapsed": true
   },
   "outputs": [],
   "source": [
    "def xnor(a, b):\n",
    "    return not xor(a, b)"
   ]
  },
  {
   "cell_type": "code",
   "execution_count": null,
   "metadata": {
    "collapsed": true
   },
   "outputs": [],
   "source": [
    "def nand(a, b):\n",
    "    return not (a and b)"
   ]
  },
  {
   "cell_type": "code",
   "execution_count": null,
   "metadata": {
    "collapsed": true
   },
   "outputs": [],
   "source": [
    "def nor(a, b):\n",
    "    return not (a or b)"
   ]
  },
  {
   "cell_type": "code",
   "execution_count": null,
   "metadata": {
    "collapsed": true
   },
   "outputs": [],
   "source": [
    "def formula(a, b, c, d, e, f, g):\n",
    "    #((a XOR b) <=> c) => (d XNOR ((e NAND f) NOR g)))\n",
    "    return (xnor(xor(a, b), c) >= (xnor(d, nor(nand(e, f), g))))"
   ]
  },
  {
   "cell_type": "code",
   "execution_count": null,
   "metadata": {
    "collapsed": true
   },
   "outputs": [],
   "source": [
    "def num_to_bin(number, length_string):\n",
    "    format_string = '0' + str(length_string) + 'b'\n",
    "    return format(number, format_string)\n",
    "\n",
    "#wdg.interact_manual(num_to_bin, number = 3, length_string = 4)"
   ]
  },
  {
   "cell_type": "code",
   "execution_count": null,
   "metadata": {
    "collapsed": true
   },
   "outputs": [],
   "source": [
    "def possible_truth(length_undef):\n",
    "    possible_truth = []\n",
    "    for x in range(0, 2**length_undef):\n",
    "        possible_truth.append(num_to_bin(x, length_undef))\n",
    "    return possible_truth"
   ]
  },
  {
   "cell_type": "code",
   "execution_count": null,
   "metadata": {},
   "outputs": [],
   "source": [
    "def game(a, b, c, d, e, f, g):\n",
    "    #Can take 3 values: 0, 1, or 2\n",
    "    values = {'a': a, 'b': b, 'c': c, 'd': d, 'e': e, 'f': f, 'g': g}\n",
    "    val_specified = {}\n",
    "    val_none = {}\n",
    "    num_sucessful = 0 \n",
    "    [((val_none.update({x : y})) if (y == 2) else (val_specified.update({x : y}))) for x, y in values.items()]\n",
    "    \n",
    "    if(len(val_none) > 0):\n",
    "        val_possible = possible_truth(len(val_none))\n",
    "        for x in range(0, 2**(len(val_none))):\n",
    "            for y in val_none:\n",
    "                val_none[y] = int(val_possible[x])\n",
    "            val_all = {**val_specified, **val_none}\n",
    "            if formula(val_all['a'], val_all['b'], val_all['c'], val_all['d'],\n",
    "                      val_all['e'], val_all['f'], val_all['g']):\n",
    "                num_sucessful += 1\n",
    "            \n",
    "    return num_sucessful\n",
    "    \n",
    "    \n",
    "wdg.interact_manual(game, a = [0, 1, 2], b = [0, 1, 2], c = [0, 1, 2], \n",
    "                    d = [0, 1, 2], e = [0, 1, 2], f = [0, 1, 2], g = [0, 1, 2])"
   ]
  },
  {
   "cell_type": "code",
   "execution_count": null,
   "metadata": {
    "collapsed": true
   },
   "outputs": [],
   "source": []
  }
 ],
 "metadata": {
  "kernelspec": {
   "display_name": "Python 3",
   "language": "python",
   "name": "python3"
  },
  "language_info": {
   "codemirror_mode": {
    "name": "ipython",
    "version": 3
   },
   "file_extension": ".py",
   "mimetype": "text/x-python",
   "name": "python",
   "nbconvert_exporter": "python",
   "pygments_lexer": "ipython3",
   "version": "3.6.1"
  }
 },
 "nbformat": 4,
 "nbformat_minor": 2
}
