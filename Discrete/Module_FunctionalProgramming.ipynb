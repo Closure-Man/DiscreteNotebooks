{
 "cells": [
  {
   "cell_type": "code",
   "execution_count": 1,
   "metadata": {
    "collapsed": true
   },
   "outputs": [],
   "source": [
    "#TEXT ON FUNCTIONAL PROGRAMMING"
   ]
  },
  {
   "cell_type": "code",
   "execution_count": 2,
   "metadata": {
    "collapsed": true
   },
   "outputs": [],
   "source": [
    "import ipywidgets as wdg"
   ]
  },
  {
   "cell_type": "code",
   "execution_count": 13,
   "metadata": {
    "collapsed": true
   },
   "outputs": [],
   "source": [
    "from functools import reduce"
   ]
  },
  {
   "cell_type": "code",
   "execution_count": 10,
   "metadata": {},
   "outputs": [
    {
     "data": {
      "application/vnd.jupyter.widget-view+json": {
       "model_id": "f8db033935b44144a5b000a0b354d436"
      }
     },
     "metadata": {},
     "output_type": "display_data"
    },
    {
     "data": {
      "text/plain": [
       "<function __main__.factorial>"
      ]
     },
     "execution_count": 10,
     "metadata": {},
     "output_type": "execute_result"
    }
   ],
   "source": [
    "#Basic Example of Recursion\n",
    "def factorial(num_elem):\n",
    "    if(num_elem == 0):\n",
    "        return 1\n",
    "    elif(num_elem < 0):\n",
    "        return \"Cannot Compute Factorial for Numbers under 0\"\n",
    "    return num_elem * factorial(num_elem - 1)\n",
    "wdg.interact(factorial, num_elem = 3)"
   ]
  },
  {
   "cell_type": "code",
   "execution_count": 5,
   "metadata": {},
   "outputs": [
    {
     "data": {
      "application/vnd.jupyter.widget-view+json": {
       "model_id": "a8a4a42a1097483e84f2be2748f386cf"
      }
     },
     "metadata": {},
     "output_type": "display_data"
    },
    {
     "data": {
      "text/plain": [
       "<function __main__.filter_example>"
      ]
     },
     "execution_count": 5,
     "metadata": {},
     "output_type": "execute_result"
    }
   ],
   "source": [
    "#Example of Filter\n",
    "def filter_example(num_elem):\n",
    "    if(num_elem < 1):\n",
    "        return \"Must have a positive number of elements\"\n",
    "    return list(filter(lambda x: x > 5, range(0, num_elem)))\n",
    "wdg.interact(filter_example, num_elem = 5)"
   ]
  },
  {
   "cell_type": "code",
   "execution_count": 6,
   "metadata": {},
   "outputs": [
    {
     "data": {
      "application/vnd.jupyter.widget-view+json": {
       "model_id": "86649451455e4b22bfd1789fb3477ad9"
      }
     },
     "metadata": {},
     "output_type": "display_data"
    },
    {
     "data": {
      "text/plain": [
       "<function __main__.map_example>"
      ]
     },
     "execution_count": 6,
     "metadata": {},
     "output_type": "execute_result"
    }
   ],
   "source": [
    "#Example of Map\n",
    "def map_example(num_elem):\n",
    "    if(num_elem < 1):\n",
    "        return \"Must have a postivie number of elements\"\n",
    "    return list(map(lambda x: x*2, range(0, num_elem)))\n",
    "wdg.interact(map_example, num_elem = 5)"
   ]
  },
  {
   "cell_type": "code",
   "execution_count": 20,
   "metadata": {},
   "outputs": [
    {
     "data": {
      "application/vnd.jupyter.widget-view+json": {
       "model_id": "a5dfe194f2ec4bceb142cf7a9a499df5"
      }
     },
     "metadata": {},
     "output_type": "display_data"
    },
    {
     "data": {
      "text/plain": [
       "<function __main__.reduce_example>"
      ]
     },
     "execution_count": 20,
     "metadata": {},
     "output_type": "execute_result"
    }
   ],
   "source": [
    "#Example of Reduce\n",
    "#Left Reduce error on empty list in for purposes of learning \n",
    "#About Reduce\n",
    "def reduce_example(num_elem):\n",
    "    if(num_elem < 0):\n",
    "        return \"Must have a postive, non-zero number of elements\"\n",
    "    return reduce(lambda x,y: x+y, range(0, num_elem))\n",
    "wdg.interact(reduce_example, num_elem = 5)"
   ]
  }
 ],
 "metadata": {
  "kernelspec": {
   "display_name": "Python 3",
   "language": "python",
   "name": "python3"
  },
  "language_info": {
   "codemirror_mode": {
    "name": "ipython",
    "version": 3
   },
   "file_extension": ".py",
   "mimetype": "text/x-python",
   "name": "python",
   "nbconvert_exporter": "python",
   "pygments_lexer": "ipython3",
   "version": "3.6.1"
  }
 },
 "nbformat": 4,
 "nbformat_minor": 2
}
